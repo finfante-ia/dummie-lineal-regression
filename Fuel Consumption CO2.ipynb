{
 "cells": [
  {
   "cell_type": "code",
   "execution_count": 1,
   "id": "001a7272-2464-4e76-beb8-6e772bd2a6b5",
   "metadata": {
    "tags": []
   },
   "outputs": [],
   "source": [
    "# Surpress warnings:\n",
    "def warn(*args, **kwargs):\n",
    "    pass\n",
    "import warnings\n",
    "warnings.warn = warn"
   ]
  },
  {
   "cell_type": "code",
   "execution_count": 2,
   "id": "33859a80-f040-4b3e-bfae-7fd7202ccc89",
   "metadata": {
    "tags": []
   },
   "outputs": [],
   "source": [
    "\n",
    "import pandas as pd\n",
    "import seaborn as sns\n",
    "from sklearn.linear_model import LinearRegression\n",
    "import sklearn.metrics as metrics\n",
    "import numpy as np\n",
    "from sklearn.model_selection import train_test_split\n",
    "\n",
    "\n"
   ]
  },
  {
   "cell_type": "code",
   "execution_count": 3,
   "id": "da4c2a43-81a6-422f-aaaa-3d1fb54efa70",
   "metadata": {
    "tags": []
   },
   "outputs": [],
   "source": [
    "#import opendatasets as od\n",
    "\n",
    "#od.download(\"https://www.kaggle.com/datasets/mohamedjafirashraf/fuel-consumption-co2\")\n"
   ]
  },
  {
   "cell_type": "code",
   "execution_count": 4,
   "id": "a2f171a7-8cb9-4539-9526-5d3bda186737",
   "metadata": {},
   "outputs": [],
   "source": [
    "df=pd.read_csv('FuelConsumptionCo2.csv')"
   ]
  },
  {
   "cell_type": "code",
   "execution_count": 5,
   "id": "166bb8f1-74ab-4efc-87a8-e4458741a5d2",
   "metadata": {
    "tags": []
   },
   "outputs": [
    {
     "data": {
      "text/html": [
       "<div>\n",
       "<style scoped>\n",
       "    .dataframe tbody tr th:only-of-type {\n",
       "        vertical-align: middle;\n",
       "    }\n",
       "\n",
       "    .dataframe tbody tr th {\n",
       "        vertical-align: top;\n",
       "    }\n",
       "\n",
       "    .dataframe thead th {\n",
       "        text-align: right;\n",
       "    }\n",
       "</style>\n",
       "<table border=\"1\" class=\"dataframe\">\n",
       "  <thead>\n",
       "    <tr style=\"text-align: right;\">\n",
       "      <th></th>\n",
       "      <th>MODELYEAR</th>\n",
       "      <th>MAKE</th>\n",
       "      <th>MODEL</th>\n",
       "      <th>VEHICLECLASS</th>\n",
       "      <th>ENGINESIZE</th>\n",
       "      <th>CYLINDERS</th>\n",
       "      <th>TRANSMISSION</th>\n",
       "      <th>FUELTYPE</th>\n",
       "      <th>FUELCONSUMPTION_CITY</th>\n",
       "      <th>FUELCONSUMPTION_HWY</th>\n",
       "      <th>FUELCONSUMPTION_COMB</th>\n",
       "      <th>FUELCONSUMPTION_COMB_MPG</th>\n",
       "      <th>CO2EMISSIONS</th>\n",
       "    </tr>\n",
       "  </thead>\n",
       "  <tbody>\n",
       "    <tr>\n",
       "      <th>0</th>\n",
       "      <td>2014</td>\n",
       "      <td>ACURA</td>\n",
       "      <td>ILX</td>\n",
       "      <td>COMPACT</td>\n",
       "      <td>2.0</td>\n",
       "      <td>4</td>\n",
       "      <td>AS5</td>\n",
       "      <td>Z</td>\n",
       "      <td>9.9</td>\n",
       "      <td>6.7</td>\n",
       "      <td>8.5</td>\n",
       "      <td>33</td>\n",
       "      <td>196</td>\n",
       "    </tr>\n",
       "    <tr>\n",
       "      <th>1</th>\n",
       "      <td>2014</td>\n",
       "      <td>ACURA</td>\n",
       "      <td>ILX</td>\n",
       "      <td>COMPACT</td>\n",
       "      <td>2.4</td>\n",
       "      <td>4</td>\n",
       "      <td>M6</td>\n",
       "      <td>Z</td>\n",
       "      <td>11.2</td>\n",
       "      <td>7.7</td>\n",
       "      <td>9.6</td>\n",
       "      <td>29</td>\n",
       "      <td>221</td>\n",
       "    </tr>\n",
       "    <tr>\n",
       "      <th>2</th>\n",
       "      <td>2014</td>\n",
       "      <td>ACURA</td>\n",
       "      <td>ILX HYBRID</td>\n",
       "      <td>COMPACT</td>\n",
       "      <td>1.5</td>\n",
       "      <td>4</td>\n",
       "      <td>AV7</td>\n",
       "      <td>Z</td>\n",
       "      <td>6.0</td>\n",
       "      <td>5.8</td>\n",
       "      <td>5.9</td>\n",
       "      <td>48</td>\n",
       "      <td>136</td>\n",
       "    </tr>\n",
       "    <tr>\n",
       "      <th>3</th>\n",
       "      <td>2014</td>\n",
       "      <td>ACURA</td>\n",
       "      <td>MDX 4WD</td>\n",
       "      <td>SUV - SMALL</td>\n",
       "      <td>3.5</td>\n",
       "      <td>6</td>\n",
       "      <td>AS6</td>\n",
       "      <td>Z</td>\n",
       "      <td>12.7</td>\n",
       "      <td>9.1</td>\n",
       "      <td>11.1</td>\n",
       "      <td>25</td>\n",
       "      <td>255</td>\n",
       "    </tr>\n",
       "    <tr>\n",
       "      <th>4</th>\n",
       "      <td>2014</td>\n",
       "      <td>ACURA</td>\n",
       "      <td>RDX AWD</td>\n",
       "      <td>SUV - SMALL</td>\n",
       "      <td>3.5</td>\n",
       "      <td>6</td>\n",
       "      <td>AS6</td>\n",
       "      <td>Z</td>\n",
       "      <td>12.1</td>\n",
       "      <td>8.7</td>\n",
       "      <td>10.6</td>\n",
       "      <td>27</td>\n",
       "      <td>244</td>\n",
       "    </tr>\n",
       "  </tbody>\n",
       "</table>\n",
       "</div>"
      ],
      "text/plain": [
       "   MODELYEAR   MAKE       MODEL VEHICLECLASS  ENGINESIZE  CYLINDERS  \\\n",
       "0       2014  ACURA         ILX      COMPACT         2.0          4   \n",
       "1       2014  ACURA         ILX      COMPACT         2.4          4   \n",
       "2       2014  ACURA  ILX HYBRID      COMPACT         1.5          4   \n",
       "3       2014  ACURA     MDX 4WD  SUV - SMALL         3.5          6   \n",
       "4       2014  ACURA     RDX AWD  SUV - SMALL         3.5          6   \n",
       "\n",
       "  TRANSMISSION FUELTYPE  FUELCONSUMPTION_CITY  FUELCONSUMPTION_HWY  \\\n",
       "0          AS5        Z                   9.9                  6.7   \n",
       "1           M6        Z                  11.2                  7.7   \n",
       "2          AV7        Z                   6.0                  5.8   \n",
       "3          AS6        Z                  12.7                  9.1   \n",
       "4          AS6        Z                  12.1                  8.7   \n",
       "\n",
       "   FUELCONSUMPTION_COMB  FUELCONSUMPTION_COMB_MPG  CO2EMISSIONS  \n",
       "0                   8.5                        33           196  \n",
       "1                   9.6                        29           221  \n",
       "2                   5.9                        48           136  \n",
       "3                  11.1                        25           255  \n",
       "4                  10.6                        27           244  "
      ]
     },
     "execution_count": 5,
     "metadata": {},
     "output_type": "execute_result"
    }
   ],
   "source": [
    "df.head()"
   ]
  },
  {
   "cell_type": "code",
   "execution_count": 6,
   "id": "7d94729f-2042-44a5-8741-8dbebf309f90",
   "metadata": {
    "tags": []
   },
   "outputs": [
    {
     "name": "stdout",
     "output_type": "stream",
     "text": [
      "<class 'pandas.core.frame.DataFrame'>\n",
      "RangeIndex: 1067 entries, 0 to 1066\n",
      "Data columns (total 13 columns):\n",
      " #   Column                    Non-Null Count  Dtype  \n",
      "---  ------                    --------------  -----  \n",
      " 0   MODELYEAR                 1067 non-null   int64  \n",
      " 1   MAKE                      1067 non-null   object \n",
      " 2   MODEL                     1067 non-null   object \n",
      " 3   VEHICLECLASS              1067 non-null   object \n",
      " 4   ENGINESIZE                1067 non-null   float64\n",
      " 5   CYLINDERS                 1067 non-null   int64  \n",
      " 6   TRANSMISSION              1067 non-null   object \n",
      " 7   FUELTYPE                  1067 non-null   object \n",
      " 8   FUELCONSUMPTION_CITY      1067 non-null   float64\n",
      " 9   FUELCONSUMPTION_HWY       1067 non-null   float64\n",
      " 10  FUELCONSUMPTION_COMB      1067 non-null   float64\n",
      " 11  FUELCONSUMPTION_COMB_MPG  1067 non-null   int64  \n",
      " 12  CO2EMISSIONS              1067 non-null   int64  \n",
      "dtypes: float64(4), int64(4), object(5)\n",
      "memory usage: 108.5+ KB\n"
     ]
    }
   ],
   "source": [
    "df.info()"
   ]
  },
  {
   "cell_type": "code",
   "execution_count": 7,
   "id": "ada58c6f-b624-4268-9e86-435fd7d1a7c9",
   "metadata": {
    "tags": []
   },
   "outputs": [
    {
     "data": {
      "text/plain": [
       "FUELTYPE\n",
       "X    514\n",
       "Z    434\n",
       "E     92\n",
       "D     27\n",
       "Name: count, dtype: int64"
      ]
     },
     "execution_count": 7,
     "metadata": {},
     "output_type": "execute_result"
    }
   ],
   "source": [
    "df['FUELTYPE'].value_counts()"
   ]
  },
  {
   "cell_type": "code",
   "execution_count": 8,
   "id": "2af49b54-20e7-49ac-baa1-e7277a3969e7",
   "metadata": {
    "tags": []
   },
   "outputs": [
    {
     "data": {
      "text/plain": [
       "<Axes: xlabel='FUELCONSUMPTION_COMB', ylabel='CO2EMISSIONS'>"
      ]
     },
     "execution_count": 8,
     "metadata": {},
     "output_type": "execute_result"
    },
    {
     "data": {
      "image/png": "[encoded data removed]",
      "text/plain": [
       "<Figure size 640x480 with 1 Axes>"
      ]
     },
     "metadata": {},
     "output_type": "display_data"
    }
   ],
   "source": [
    "sns.scatterplot(df, x='FUELCONSUMPTION_COMB', y='CO2EMISSIONS',  hue='FUELTYPE')\n"
   ]
  },
  {
   "cell_type": "code",
   "execution_count": 9,
   "id": "9af61712-19e5-46bd-a5ce-6a6a5ec7134f",
   "metadata": {
    "tags": []
   },
   "outputs": [],
   "source": [
    "class LR_hue:\n",
    "    def __init__(self):\n",
    "        self.fitted=False\n",
    "        \n",
    "    def fit(self, X, y, hue):\n",
    "        self.hue=hue\n",
    "        self.hue_features=[]\n",
    "        self.hue_features=X[hue].unique()\n",
    "        self.dict_lr={}\n",
    "        yre=[]\n",
    "        yhatre=[]\n",
    "        for hue_feature in self.hue_features:\n",
    "            xh=X[X[hue]==hue_feature].drop(hue, axis=1).to_numpy()\n",
    "            yh=y[X[hue]==hue_feature].to_numpy()\n",
    "            yre=np.concatenate((yre, yh))\n",
    "            self.dict_lr[hue_feature]=LinearRegression()\n",
    "            self.dict_lr[hue_feature].fit(xh, yh)\n",
    "            yhat=self.dict_lr[hue_feature].predict(xh)\n",
    "            yhatre=np.concatenate((yhatre, yhat))\n",
    "            \n",
    "        print('training accuracy score:', metrics.mean_squared_error(yre,yhatre))\n",
    "        print('training r2_score:', metrics.r2_score(yre,yhatre))\n",
    "        print('training mean_squared_error:', metrics.mean_squared_error(yre,yhatre))   \n",
    "        \n",
    "        self.fitted=True    \n",
    "        #return self.dict_lr\n",
    "        \n",
    "    def check_fitted(self):\n",
    "        if not self.fitted:\n",
    "            raise ValueError(\"NotFittedError\")\n",
    "            \n",
    "    def predict(self, X):\n",
    "        self.check_fitted()\n",
    "        hue=self.hue\n",
    "        y=X.copy()[[]]       #create empty y to store predictions keeping the indexes from X\n",
    "        y['yhat']=np.nan\n",
    "        for hue_feature in self.hue_features:\n",
    "            xh=X[X[hue]==hue_feature].drop(hue, axis=1)\n",
    "            pr=self.dict_lr[hue_feature].predict(xh.to_numpy())\n",
    "            pr=pd.DataFrame(pr, columns=['yhat'], index=xh.index) # store predictions with original x.index used\n",
    "            y.update(pr) #only update the values in y where indexes from pr matches\n",
    "        return y['yhat']\n",
    "    \n",
    "    def get_params(self):\n",
    "        self.check_fitted()\n",
    "        df_params=pd.DataFrame(columns=['Variable','params'])\n",
    "        for hue_feature in self.hue_features:\n",
    "            df_params.loc[len(df_params.index)]=[hue_feature, self.dict_lr[hue_feature].get_params()]\n",
    "        return df_params\n",
    "    \n",
    "    def coef_(self):\n",
    "        self.check_fitted()\n",
    "        df_params=pd.DataFrame(columns=['Variable','coef_'])\n",
    "        for hue_feature in self.hue_features:\n",
    "            df_params.loc[len(df_params.index)]=[hue_feature, self.dict_lr[hue_feature].coef_]\n",
    "        return df_params        \n",
    "    \n",
    "    def intercept_(self):\n",
    "        self.check_fitted()\n",
    "        df_params=pd.DataFrame(columns=['Variable','coef_'])\n",
    "        for hue_feature in self.hue_features:\n",
    "            df_params.loc[len(df_params.index)]=[hue_feature, self.dict_lr[hue_feature].intercept_]\n",
    "        return df_params\n",
    "    \n",
    "    def scores(self,X,y):\n",
    "        self.check_fitted()\n",
    "        y=y.to_frame()\n",
    "        hue=self.hue\n",
    "        yhat=self.predict(X).to_frame()\n",
    "        df_params=pd.DataFrame(columns=[hue,'Accuracy', 'R2', 'MSE', 'MAE'])\n",
    "        for hue_feature in self.hue_features:\n",
    "            yhath=yhat[X[hue]==hue_feature]\n",
    "            yh=y[X[hue]==hue_feature]\n",
    "            df_params.loc[len(df_params.index)]=[hue_feature, metrics.mean_squared_error(yh,yhath), metrics.r2_score(yh,yhath), metrics.mean_squared_error(yh,yhath) ,metrics.mean_absolute_error(yh,yhath)]\n",
    "        df_params.loc[len(df_params.index)]=['Total', metrics.mean_squared_error(y,yhat), metrics.r2_score(y,yhat), metrics.mean_squared_error(y,yhat) ,metrics.mean_absolute_error(y,yhat)]\n",
    "        return df_params\n",
    "        \n",
    "        "
   ]
  },
  {
   "cell_type": "code",
   "execution_count": 10,
   "id": "b9b844a2-2d87-4078-8991-024f3e87a844",
   "metadata": {
    "tags": []
   },
   "outputs": [],
   "source": [
    "lr=LR_hue()"
   ]
  },
  {
   "cell_type": "code",
   "execution_count": 11,
   "id": "ee4596a3-36bb-4c8a-90e7-1cc25676c17d",
   "metadata": {
    "tags": []
   },
   "outputs": [],
   "source": [
    "X=df[['ENGINESIZE', 'CYLINDERS' ,'FUELTYPE', 'FUELCONSUMPTION_CITY','FUELCONSUMPTION_HWY', 'FUELCONSUMPTION_COMB' ,'FUELCONSUMPTION_COMB_MPG']]\n",
    "y=df['CO2EMISSIONS']\n"
   ]
  },
  {
   "cell_type": "code",
   "execution_count": 12,
   "id": "e397d121-feb8-4c54-a5cb-e88711bd6a62",
   "metadata": {
    "tags": []
   },
   "outputs": [],
   "source": [
    "X_train, X_test, Y_train, Y_test = train_test_split(X,y, test_size=0.2, random_state=2)"
   ]
  },
  {
   "cell_type": "code",
   "execution_count": 13,
   "id": "dd22ed1e-8f4c-4bb2-be07-1da401c5e79a",
   "metadata": {
    "tags": []
   },
   "outputs": [
    {
     "name": "stdout",
     "output_type": "stream",
     "text": [
      "training accuracy score: 0.0807801211975291\n",
      "training r2_score: 0.9999790538422615\n",
      "training mean_squared_error: 0.0807801211975291\n"
     ]
    }
   ],
   "source": [
    "lr.fit(X_train,Y_train,'FUELTYPE')"
   ]
  },
  {
   "cell_type": "code",
   "execution_count": 14,
   "id": "1260907d-e6df-4c32-ba53-b615f0463ec4",
   "metadata": {
    "tags": []
   },
   "outputs": [
    {
     "name": "stdout",
     "output_type": "stream",
     "text": [
      "Test accuracy score: 0.09535103934645543\n",
      "Test r2_score: 0.9999794088079672\n",
      "Test mean_squared_error: 0.09535103934645543\n"
     ]
    }
   ],
   "source": [
    "y_hat=lr.predict(X_test)\n",
    "\n",
    "print('Test accuracy score:', metrics.mean_squared_error(Y_test,y_hat))\n",
    "print('Test r2_score:', metrics.r2_score(Y_test,y_hat))\n",
    "print('Test mean_squared_error:', metrics.mean_squared_error(Y_test,y_hat))"
   ]
  },
  {
   "cell_type": "code",
   "execution_count": 15,
   "id": "c057c1f9-03f0-409a-8e3c-fca6ba38e056",
   "metadata": {},
   "outputs": [
    {
     "data": {
      "text/html": [
       "<div>\n",
       "<style scoped>\n",
       "    .dataframe tbody tr th:only-of-type {\n",
       "        vertical-align: middle;\n",
       "    }\n",
       "\n",
       "    .dataframe tbody tr th {\n",
       "        vertical-align: top;\n",
       "    }\n",
       "\n",
       "    .dataframe thead th {\n",
       "        text-align: right;\n",
       "    }\n",
       "</style>\n",
       "<table border=\"1\" class=\"dataframe\">\n",
       "  <thead>\n",
       "    <tr style=\"text-align: right;\">\n",
       "      <th></th>\n",
       "      <th>FUELTYPE</th>\n",
       "      <th>Accuracy</th>\n",
       "      <th>R2</th>\n",
       "      <th>MSE</th>\n",
       "      <th>MAE</th>\n",
       "    </tr>\n",
       "  </thead>\n",
       "  <tbody>\n",
       "    <tr>\n",
       "      <th>0</th>\n",
       "      <td>E</td>\n",
       "      <td>0.068135</td>\n",
       "      <td>0.999983</td>\n",
       "      <td>0.068135</td>\n",
       "      <td>0.223066</td>\n",
       "    </tr>\n",
       "    <tr>\n",
       "      <th>1</th>\n",
       "      <td>Z</td>\n",
       "      <td>0.086343</td>\n",
       "      <td>0.999980</td>\n",
       "      <td>0.086343</td>\n",
       "      <td>0.254018</td>\n",
       "    </tr>\n",
       "    <tr>\n",
       "      <th>2</th>\n",
       "      <td>X</td>\n",
       "      <td>0.099788</td>\n",
       "      <td>0.999978</td>\n",
       "      <td>0.099788</td>\n",
       "      <td>0.270386</td>\n",
       "    </tr>\n",
       "    <tr>\n",
       "      <th>3</th>\n",
       "      <td>D</td>\n",
       "      <td>0.201933</td>\n",
       "      <td>0.999927</td>\n",
       "      <td>0.201933</td>\n",
       "      <td>0.392293</td>\n",
       "    </tr>\n",
       "    <tr>\n",
       "      <th>4</th>\n",
       "      <td>Total</td>\n",
       "      <td>0.095351</td>\n",
       "      <td>0.999979</td>\n",
       "      <td>0.095351</td>\n",
       "      <td>0.264394</td>\n",
       "    </tr>\n",
       "  </tbody>\n",
       "</table>\n",
       "</div>"
      ],
      "text/plain": [
       "  FUELTYPE  Accuracy        R2       MSE       MAE\n",
       "0        E  0.068135  0.999983  0.068135  0.223066\n",
       "1        Z  0.086343  0.999980  0.086343  0.254018\n",
       "2        X  0.099788  0.999978  0.099788  0.270386\n",
       "3        D  0.201933  0.999927  0.201933  0.392293\n",
       "4    Total  0.095351  0.999979  0.095351  0.264394"
      ]
     },
     "execution_count": 15,
     "metadata": {},
     "output_type": "execute_result"
    }
   ],
   "source": [
    "lr.scores(X_test,Y_test)"
   ]
  },
  {
   "cell_type": "code",
   "execution_count": 16,
   "id": "073ae9c6-3216-4ac7-a0e7-9f16c065d112",
   "metadata": {
    "tags": []
   },
   "outputs": [
    {
     "data": {
      "text/html": [
       "<div>\n",
       "<style scoped>\n",
       "    .dataframe tbody tr th:only-of-type {\n",
       "        vertical-align: middle;\n",
       "    }\n",
       "\n",
       "    .dataframe tbody tr th {\n",
       "        vertical-align: top;\n",
       "    }\n",
       "\n",
       "    .dataframe thead th {\n",
       "        text-align: right;\n",
       "    }\n",
       "</style>\n",
       "<table border=\"1\" class=\"dataframe\">\n",
       "  <thead>\n",
       "    <tr style=\"text-align: right;\">\n",
       "      <th></th>\n",
       "      <th>Variable</th>\n",
       "      <th>coef_</th>\n",
       "    </tr>\n",
       "  </thead>\n",
       "  <tbody>\n",
       "    <tr>\n",
       "      <th>0</th>\n",
       "      <td>E</td>\n",
       "      <td>[0.3182812507831873, -0.3382745877401261, -0.0...</td>\n",
       "    </tr>\n",
       "    <tr>\n",
       "      <th>1</th>\n",
       "      <td>Z</td>\n",
       "      <td>[-0.04030147054079023, 0.02139321295289065, -0...</td>\n",
       "    </tr>\n",
       "    <tr>\n",
       "      <th>2</th>\n",
       "      <td>X</td>\n",
       "      <td>[0.01091853818201069, -0.009003584662975683, 0...</td>\n",
       "    </tr>\n",
       "    <tr>\n",
       "      <th>3</th>\n",
       "      <td>D</td>\n",
       "      <td>[-2.8626608472009623, 1.2013025137407611, -0.6...</td>\n",
       "    </tr>\n",
       "  </tbody>\n",
       "</table>\n",
       "</div>"
      ],
      "text/plain": [
       "  Variable                                              coef_\n",
       "0        E  [0.3182812507831873, -0.3382745877401261, -0.0...\n",
       "1        Z  [-0.04030147054079023, 0.02139321295289065, -0...\n",
       "2        X  [0.01091853818201069, -0.009003584662975683, 0...\n",
       "3        D  [-2.8626608472009623, 1.2013025137407611, -0.6..."
      ]
     },
     "execution_count": 16,
     "metadata": {},
     "output_type": "execute_result"
    }
   ],
   "source": [
    "lr.coef_()"
   ]
  },
  {
   "cell_type": "code",
   "execution_count": 17,
   "id": "45bd26d2-c9bb-47b4-bd3a-b6a1b5407795",
   "metadata": {
    "tags": []
   },
   "outputs": [
    {
     "data": {
      "text/html": [
       "<div>\n",
       "<style scoped>\n",
       "    .dataframe tbody tr th:only-of-type {\n",
       "        vertical-align: middle;\n",
       "    }\n",
       "\n",
       "    .dataframe tbody tr th {\n",
       "        vertical-align: top;\n",
       "    }\n",
       "\n",
       "    .dataframe thead th {\n",
       "        text-align: right;\n",
       "    }\n",
       "</style>\n",
       "<table border=\"1\" class=\"dataframe\">\n",
       "  <thead>\n",
       "    <tr style=\"text-align: right;\">\n",
       "      <th></th>\n",
       "      <th>Variable</th>\n",
       "      <th>coef_</th>\n",
       "    </tr>\n",
       "  </thead>\n",
       "  <tbody>\n",
       "    <tr>\n",
       "      <th>0</th>\n",
       "      <td>E</td>\n",
       "      <td>0.117799</td>\n",
       "    </tr>\n",
       "    <tr>\n",
       "      <th>1</th>\n",
       "      <td>Z</td>\n",
       "      <td>0.763176</td>\n",
       "    </tr>\n",
       "    <tr>\n",
       "      <th>2</th>\n",
       "      <td>X</td>\n",
       "      <td>-0.215656</td>\n",
       "    </tr>\n",
       "    <tr>\n",
       "      <th>3</th>\n",
       "      <td>D</td>\n",
       "      <td>16.558794</td>\n",
       "    </tr>\n",
       "  </tbody>\n",
       "</table>\n",
       "</div>"
      ],
      "text/plain": [
       "  Variable      coef_\n",
       "0        E   0.117799\n",
       "1        Z   0.763176\n",
       "2        X  -0.215656\n",
       "3        D  16.558794"
      ]
     },
     "execution_count": 17,
     "metadata": {},
     "output_type": "execute_result"
    }
   ],
   "source": [
    "lr.intercept_()"
   ]
  },
  {
   "cell_type": "code",
   "execution_count": null,
   "id": "79f5bcc6-539e-47e2-be12-7d71d6cd12b5",
   "metadata": {},
   "outputs": [],
   "source": []
  }
 ],
 "metadata": {
  "kernelspec": {
   "display_name": "Python 3 (ipykernel)",
   "language": "python",
   "name": "python3"
  },
  "language_info": {
   "codemirror_mode": {
    "name": "ipython",
    "version": 3
   },
   "file_extension": ".py",
   "mimetype": "text/x-python",
   "name": "python",
   "nbconvert_exporter": "python",
   "pygments_lexer": "ipython3",
   "version": "3.10.13"
  }
 },
 "nbformat": 4,
 "nbformat_minor": 5
}
